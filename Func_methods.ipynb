{
  "nbformat": 4,
  "nbformat_minor": 0,
  "metadata": {
    "colab": {
      "provenance": [],
      "authorship_tag": "ABX9TyMlC6FPivyVwEeOBDEC6COs",
      "include_colab_link": true
    },
    "kernelspec": {
      "name": "python3",
      "display_name": "Python 3"
    },
    "language_info": {
      "name": "python"
    }
  },
  "cells": [
    {
      "cell_type": "markdown",
      "metadata": {
        "id": "view-in-github",
        "colab_type": "text"
      },
      "source": [
        "<a href=\"https://colab.research.google.com/github/gulshan0201/Data-Analysis-Python/blob/main/Func_methods.ipynb\" target=\"_parent\"><img src=\"https://colab.research.google.com/assets/colab-badge.svg\" alt=\"Open In Colab\"/></a>"
      ]
    },
    {
      "cell_type": "code",
      "execution_count": 12,
      "metadata": {
        "colab": {
          "base_uri": "https://localhost:8080/"
        },
        "id": "EMf-kM3-JIt4",
        "outputId": "ced253ea-4dcc-40f0-d1eb-3ca995d90600"
      },
      "outputs": [
        {
          "output_type": "stream",
          "name": "stdout",
          "text": [
            "[9, 8, 88, 66, 87, 4]\n"
          ]
        }
      ],
      "source": [
        "lst_1 = [1,2,3,4,5,6]\n",
        "lst_2 = [9,8,88,66,87]\n",
        "\n",
        "res = lst_2.append(lst_1[3])\n",
        "print(lst_2)"
      ]
    },
    {
      "cell_type": "code",
      "source": [
        "a = [10, 20, 30]\n",
        "b = [1, 2, 3]\n",
        "b.append(a[0])      # adds 10 as a single element at the end\n",
        "\n",
        "print(b)\n"
      ],
      "metadata": {
        "colab": {
          "base_uri": "https://localhost:8080/"
        },
        "id": "SlIg8xj-JvKR",
        "outputId": "2ffba72c-8d85-4e82-8d57-2c6072a02e97"
      },
      "execution_count": 10,
      "outputs": [
        {
          "output_type": "stream",
          "name": "stdout",
          "text": [
            "[1, 2, 3, 10]\n"
          ]
        }
      ]
    },
    {
      "cell_type": "code",
      "source": [
        "#sorting alphabetically\n",
        "\n",
        "names = ['Niraj','Abhi','Teja','Venkat']\n",
        "\n",
        "names.sort()\n",
        "print(names)\n"
      ],
      "metadata": {
        "colab": {
          "base_uri": "https://localhost:8080/"
        },
        "id": "A4tAVsziJyzc",
        "outputId": "ec7b2e0f-be77-4b7e-de34-7921be59f928"
      },
      "execution_count": 17,
      "outputs": [
        {
          "output_type": "stream",
          "name": "stdout",
          "text": [
            "['Abhi', 'Niraj', 'Teja', 'Venkat']\n"
          ]
        }
      ]
    },
    {
      "cell_type": "code",
      "source": [
        "lst_1 = [1,2,3,4,5,6]\n",
        "lst_1.sort(reverse=True)\n",
        "print(lst_1)"
      ],
      "metadata": {
        "colab": {
          "base_uri": "https://localhost:8080/"
        },
        "id": "qE79WNGiKKib",
        "outputId": "c533b0d8-96f0-4ea6-84ba-5138018b145c"
      },
      "execution_count": 18,
      "outputs": [
        {
          "output_type": "stream",
          "name": "stdout",
          "text": [
            "[6, 5, 4, 3, 2, 1]\n"
          ]
        }
      ]
    },
    {
      "cell_type": "code",
      "source": [],
      "metadata": {
        "id": "qcIbQA8YK5hZ"
      },
      "execution_count": null,
      "outputs": []
    }
  ]
}