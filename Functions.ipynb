{
 "cells": [
  {
   "cell_type": "markdown",
   "id": "5a946a6c",
   "metadata": {},
   "source": [
    "Methods in python"
   ]
  },
  {
   "cell_type": "code",
   "execution_count": 1,
   "id": "43f9230a",
   "metadata": {},
   "outputs": [],
   "source": [
    "today = 'saturday'"
   ]
  },
  {
   "cell_type": "code",
   "execution_count": 2,
   "id": "4f6416d3",
   "metadata": {},
   "outputs": [
    {
     "name": "stdout",
     "output_type": "stream",
     "text": [
      "SATURDAY\n",
      "saturday\n",
      "Saturday\n"
     ]
    }
   ],
   "source": [
    "upp = today.upper()\n",
    "low = today.lower()\n",
    "cap = today.capitalize()\n",
    "print(upp)\n",
    "print(low)\n",
    "print(cap)"
   ]
  },
  {
   "cell_type": "code",
   "execution_count": 3,
   "id": "f69867e0",
   "metadata": {},
   "outputs": [
    {
     "data": {
      "text/plain": [
       "'WEDNESDAY'"
      ]
     },
     "execution_count": 3,
     "metadata": {},
     "output_type": "execute_result"
    }
   ],
   "source": [
    "another_day = today.replace('satur','wednes')\n",
    "another_day.upper()"
   ]
  },
  {
   "cell_type": "code",
   "execution_count": 4,
   "id": "a1bc5156",
   "metadata": {},
   "outputs": [
    {
     "name": "stdout",
     "output_type": "stream",
     "text": [
      "My name is Asha and I am 24 years old.\n"
     ]
    }
   ],
   "source": [
    "name = \"Asha\"\n",
    "age = 24\n",
    "msg = \"My name is {} and I am {} years old.\".format(name, age)\n",
    "print(msg)  # My name is Asha and I am 24 years old.\n"
   ]
  },
  {
   "cell_type": "code",
   "execution_count": 5,
   "id": "c6d3320a",
   "metadata": {},
   "outputs": [
    {
     "name": "stdout",
     "output_type": "stream",
     "text": [
      "This candy is tasty.\n"
     ]
    }
   ],
   "source": [
    "msg = \"This {food} is {adjective}.\".format(food=\"candy\", adjective=\"tasty\")\n",
    "print(msg)  # This spam is tasty.\n"
   ]
  },
  {
   "cell_type": "markdown",
   "id": "e1d16433",
   "metadata": {},
   "source": [
    "Lists in python and usage "
   ]
  },
  {
   "cell_type": "code",
   "execution_count": 6,
   "id": "6d5845fd",
   "metadata": {},
   "outputs": [],
   "source": [
    "fruits = ['apple','banana','mangoes','grapes']"
   ]
  },
  {
   "cell_type": "code",
   "execution_count": 7,
   "id": "3f163b13",
   "metadata": {},
   "outputs": [
    {
     "name": "stdout",
     "output_type": "stream",
     "text": [
      "[1, 23, 'Name_of_student', ['apple', 'banana', 'mangoes', 'grapes'], False]\n"
     ]
    }
   ],
   "source": [
    "list_1 = [1, 23, 'Name_of_student', fruits, 3 > 9]\n",
    "print(list_1)"
   ]
  },
  {
   "cell_type": "code",
   "execution_count": null,
   "id": "6eada949",
   "metadata": {},
   "outputs": [
    {
     "data": {
      "text/plain": [
       "5"
      ]
     },
     "execution_count": 40,
     "metadata": {},
     "output_type": "execute_result"
    }
   ],
   "source": [
    "len(list_1)"
   ]
  },
  {
   "cell_type": "code",
   "execution_count": 9,
   "id": "91d62556",
   "metadata": {},
   "outputs": [],
   "source": [
    "data = [\"Books\", \"Pencils\", \"Pens\", \"Textbooks\"]\n",
    "data.append(\"Notebook\")"
   ]
  },
  {
   "cell_type": "code",
   "execution_count": 10,
   "id": "3e83ed82",
   "metadata": {},
   "outputs": [
    {
     "data": {
      "text/plain": [
       "['Books', 'Pencils', 'Pens', 'Textbooks', 'Notebook']"
      ]
     },
     "execution_count": 10,
     "metadata": {},
     "output_type": "execute_result"
    }
   ],
   "source": [
    "data"
   ]
  },
  {
   "cell_type": "code",
   "execution_count": 11,
   "id": "6c5b520a",
   "metadata": {},
   "outputs": [],
   "source": [
    "data.insert(1, 'Copy')"
   ]
  },
  {
   "cell_type": "code",
   "execution_count": 12,
   "id": "a51289d8",
   "metadata": {},
   "outputs": [
    {
     "data": {
      "text/plain": [
       "['Books', 'Copy', 'Pencils', 'Pens', 'Textbooks', 'Notebook']"
      ]
     },
     "execution_count": 12,
     "metadata": {},
     "output_type": "execute_result"
    }
   ],
   "source": [
    "data"
   ]
  },
  {
   "cell_type": "code",
   "execution_count": 13,
   "id": "688145f6",
   "metadata": {},
   "outputs": [],
   "source": [
    "data.remove(\"Notebook\")"
   ]
  },
  {
   "cell_type": "code",
   "execution_count": 14,
   "id": "71bde845",
   "metadata": {},
   "outputs": [
    {
     "data": {
      "text/plain": [
       "['Books', 'Copy', 'Pencils', 'Pens', 'Textbooks']"
      ]
     },
     "execution_count": 14,
     "metadata": {},
     "output_type": "execute_result"
    }
   ],
   "source": [
    "data"
   ]
  },
  {
   "cell_type": "code",
   "execution_count": 15,
   "id": "f68c8279",
   "metadata": {},
   "outputs": [
    {
     "data": {
      "text/plain": [
       "'Books'"
      ]
     },
     "execution_count": 15,
     "metadata": {},
     "output_type": "execute_result"
    }
   ],
   "source": [
    "data.pop(0)"
   ]
  },
  {
   "cell_type": "code",
   "execution_count": 16,
   "id": "d7d774e1",
   "metadata": {},
   "outputs": [
    {
     "data": {
      "text/plain": [
       "['Copy', 'Pencils', 'Pens', 'Textbooks']"
      ]
     },
     "execution_count": 16,
     "metadata": {},
     "output_type": "execute_result"
    }
   ],
   "source": [
    "data"
   ]
  },
  {
   "cell_type": "code",
   "execution_count": 18,
   "id": "ca58dede",
   "metadata": {},
   "outputs": [
    {
     "data": {
      "text/plain": [
       "True"
      ]
     },
     "execution_count": 18,
     "metadata": {},
     "output_type": "execute_result"
    }
   ],
   "source": [
    "#Check weather this element is present in the list or not \n",
    "'Copy' in data"
   ]
  },
  {
   "cell_type": "code",
   "execution_count": 24,
   "id": "82c94b53",
   "metadata": {},
   "outputs": [
    {
     "data": {
      "text/plain": [
       "['Textbooks', 'Pens', 'Pencils', 'Copy']"
      ]
     },
     "execution_count": 24,
     "metadata": {},
     "output_type": "execute_result"
    }
   ],
   "source": [
    "data.reverse()\n",
    "data"
   ]
  },
  {
   "cell_type": "code",
   "execution_count": null,
   "id": "747b672b",
   "metadata": {},
   "outputs": [
    {
     "data": {
      "text/plain": [
       "['Copy', 'Pencils', 'Pens', 'Textbooks']"
      ]
     },
     "execution_count": 25,
     "metadata": {},
     "output_type": "execute_result"
    }
   ],
   "source": [
    "con = []"
   ]
  },
  {
   "cell_type": "code",
   "execution_count": null,
   "id": "8fc4f872",
   "metadata": {},
   "outputs": [],
   "source": []
  }
 ],
 "metadata": {
  "kernelspec": {
   "display_name": "Python 3",
   "language": "python",
   "name": "python3"
  },
  "language_info": {
   "codemirror_mode": {
    "name": "ipython",
    "version": 3
   },
   "file_extension": ".py",
   "mimetype": "text/x-python",
   "name": "python",
   "nbconvert_exporter": "python",
   "pygments_lexer": "ipython3",
   "version": "3.12.1"
  }
 },
 "nbformat": 4,
 "nbformat_minor": 5
}
