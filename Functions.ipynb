{
 "cells": [
  {
   "cell_type": "markdown",
   "id": "5a946a6c",
   "metadata": {},
   "source": [
    "Methods in python"
   ]
  },
  {
   "cell_type": "code",
   "execution_count": 1,
   "id": "43f9230a",
   "metadata": {},
   "outputs": [],
   "source": [
    "today = 'saturday'"
   ]
  },
  {
   "cell_type": "code",
   "execution_count": 2,
   "id": "4f6416d3",
   "metadata": {},
   "outputs": [
    {
     "name": "stdout",
     "output_type": "stream",
     "text": [
      "SATURDAY\n",
      "saturday\n",
      "Saturday\n"
     ]
    }
   ],
   "source": [
    "upp = today.upper()\n",
    "low = today.lower()\n",
    "cap = today.capitalize()\n",
    "print(upp)\n",
    "print(low)\n",
    "print(cap)"
   ]
  },
  {
   "cell_type": "code",
   "execution_count": 6,
   "id": "f69867e0",
   "metadata": {},
   "outputs": [
    {
     "data": {
      "text/plain": [
       "'WEDNESDAY'"
      ]
     },
     "execution_count": 6,
     "metadata": {},
     "output_type": "execute_result"
    }
   ],
   "source": [
    "another_day = today.replace('satur','wednes')\n",
    "another_day.upper()"
   ]
  },
  {
   "cell_type": "code",
   "execution_count": null,
   "id": "a1bc5156",
   "metadata": {},
   "outputs": [
    {
     "name": "stdout",
     "output_type": "stream",
     "text": [
      "My name is 24 and I am Asha years old.\n"
     ]
    }
   ],
   "source": [
    "name = \"Asha\"\n",
    "age = 24\n",
    "msg = \"My name is {} and I am {} years old.\".format(name, age)\n",
    "print(msg)  # My name is Asha and I am 24 years old.\n"
   ]
  },
  {
   "cell_type": "code",
   "execution_count": 10,
   "id": "c6d3320a",
   "metadata": {},
   "outputs": [
    {
     "name": "stdout",
     "output_type": "stream",
     "text": [
      "This candy is tasty.\n"
     ]
    }
   ],
   "source": [
    "msg = \"This {food} is {adjective}.\".format(food=\"candy\", adjective=\"tasty\")\n",
    "print(msg)  # This spam is tasty.\n"
   ]
  }
 ],
 "metadata": {
  "kernelspec": {
   "display_name": "Python 3",
   "language": "python",
   "name": "python3"
  },
  "language_info": {
   "codemirror_mode": {
    "name": "ipython",
    "version": 3
   },
   "file_extension": ".py",
   "mimetype": "text/x-python",
   "name": "python",
   "nbconvert_exporter": "python",
   "pygments_lexer": "ipython3",
   "version": "3.12.1"
  }
 },
 "nbformat": 4,
 "nbformat_minor": 5
}
