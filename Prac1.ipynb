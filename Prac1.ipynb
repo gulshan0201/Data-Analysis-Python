{
 "cells": [
  {
   "cell_type": "code",
   "execution_count": 1,
   "id": "f2c16a43",
   "metadata": {},
   "outputs": [
    {
     "data": {
      "text/plain": [
       "125.0"
      ]
     },
     "execution_count": 1,
     "metadata": {},
     "output_type": "execute_result"
    }
   ],
   "source": [
    "500*(.2 * 1.25)"
   ]
  },
  {
   "cell_type": "code",
   "execution_count": 4,
   "id": "19ae69c3",
   "metadata": {},
   "outputs": [
    {
     "data": {
      "text/plain": [
       "125.0"
      ]
     },
     "execution_count": 4,
     "metadata": {},
     "output_type": "execute_result"
    }
   ],
   "source": [
    "cost_of_bag = 1.25\n",
    "total_no_of_bags = 500\n",
    "profit_margin = .2\n",
    "\n",
    "total_profit = total_no_of_bags * (profit_margin * cost_of_bag)\n",
    "total_profit"
   ]
  },
  {
   "cell_type": "code",
   "execution_count": 1,
   "id": "78cd73ef",
   "metadata": {},
   "outputs": [
    {
     "data": {
      "text/plain": [
       "6"
      ]
     },
     "execution_count": 1,
     "metadata": {},
     "output_type": "execute_result"
    }
   ],
   "source": [
    "5 + True"
   ]
  },
  {
   "cell_type": "code",
   "execution_count": 8,
   "id": "01041e69",
   "metadata": {},
   "outputs": [
    {
     "data": {
      "text/plain": [
       "'day'"
      ]
     },
     "execution_count": 8,
     "metadata": {},
     "output_type": "execute_result"
    }
   ],
   "source": [
    "today = \"Saturday\"\n",
    "today[5:8]"
   ]
  },
  {
   "cell_type": "code",
   "execution_count": 12,
   "id": "4b3fbfc9",
   "metadata": {},
   "outputs": [
    {
     "data": {
      "text/plain": [
       "'Rohan Says Good Morning'"
      ]
     },
     "execution_count": 12,
     "metadata": {},
     "output_type": "execute_result"
    }
   ],
   "source": [
    "Name = \"Rohan\"\n",
    "Greeting = \"Good Morning\"\n",
    "\n",
    "Sen = Name + \" Says \" + Greeting\n",
    "Sen"
   ]
  },
  {
   "cell_type": "code",
   "execution_count": 13,
   "id": "c92f60aa",
   "metadata": {},
   "outputs": [
    {
     "data": {
      "text/plain": [
       "True"
      ]
     },
     "execution_count": 13,
     "metadata": {},
     "output_type": "execute_result"
    }
   ],
   "source": [
    "Today = 'Saturday'\n",
    "\n",
    "'day' in today"
   ]
  },
  {
   "cell_type": "code",
   "execution_count": 14,
   "id": "1836302a",
   "metadata": {},
   "outputs": [
    {
     "data": {
      "text/plain": [
       "False"
      ]
     },
     "execution_count": 14,
     "metadata": {},
     "output_type": "execute_result"
    }
   ],
   "source": [
    "'sun' in today"
   ]
  },
  {
   "cell_type": "code",
   "execution_count": null,
   "id": "31975e9d",
   "metadata": {},
   "outputs": [],
   "source": []
  }
 ],
 "metadata": {
  "kernelspec": {
   "display_name": "Python 3",
   "language": "python",
   "name": "python3"
  },
  "language_info": {
   "codemirror_mode": {
    "name": "ipython",
    "version": 3
   },
   "file_extension": ".py",
   "mimetype": "text/x-python",
   "name": "python",
   "nbconvert_exporter": "python",
   "pygments_lexer": "ipython3",
   "version": "3.12.1"
  }
 },
 "nbformat": 4,
 "nbformat_minor": 5
}
